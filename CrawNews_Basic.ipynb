{
 "cells": [
  {
   "cell_type": "code",
   "execution_count": 1,
   "metadata": {},
   "outputs": [],
   "source": [
    "import os,re\n",
    "import urllib.request as ur\n",
    "from bs4 import BeautifulSoup as bs"
   ]
  },
  {
   "cell_type": "code",
   "execution_count": 4,
   "metadata": {},
   "outputs": [],
   "source": [
    "news = 'https://news.daum.net/'"
   ]
  },
  {
   "cell_type": "code",
   "execution_count": 5,
   "metadata": {},
   "outputs": [],
   "source": [
    "soup = bs(ur.urlopen(news).read(), 'html.parser')"
   ]
  },
  {
   "cell_type": "code",
   "execution_count": 6,
   "metadata": {},
   "outputs": [
    {
     "data": {
      "text/plain": [
       "[<div class=\"item_issue\">\n",
       " <a class=\"link_thumb\" data-tiara-custom=\"contentUniqueKey=hamny-20210117091705022\" data-tiara-id=\"20210117091705022\" data-tiara-layer=\"article_thumb\" data-tiara-ordnum=\"1\" data-tiara-type=\"harmony\" href=\"https://news.v.daum.net/v/20210117091705022\">\n",
       " <img alt=\"내일부터 카페 매장 내 취식 가능..헬스장·노래방 운영재개\" class=\"thumb_g\" src=\"https://img1.daumcdn.net/thumb/S254x156ht.u/?fname=https%3A%2F%2Ft1.daumcdn.net%2Fnews%2F202101%2F17%2Fked%2F20210117091705639vlby.jpg&amp;scode=media\"/>\n",
       " </a>\n",
       " <div class=\"cont_thumb\">\n",
       " <strong class=\"tit_thumb\">\n",
       " <a class=\"link_txt\" data-tiara-custom=\"contentUniqueKey=hamny-20210117091705022\" data-tiara-id=\"20210117091705022\" data-tiara-layer=\"article_main\" data-tiara-ordnum=\"1\" data-tiara-type=\"harmony\" href=\"https://news.v.daum.net/v/20210117091705022\">내일부터 카페 매장 내 취식 가능..헬스장·노래방 운영재개</a>\n",
       " </strong>\n",
       " <span class=\"info_thumb\">한국경제</span>\n",
       " </div>\n",
       " </div>,\n",
       " <div class=\"item_issue\">\n",
       " <a class=\"link_thumb\" data-tiara-custom=\"contentUniqueKey=hamny-20210117083236524\" data-tiara-id=\"20210117083236524\" data-tiara-layer=\"article_thumb\" data-tiara-ordnum=\"1\" data-tiara-type=\"harmony\" href=\"https://news.v.daum.net/v/20210117083236524\">\n",
       " <img alt=\"바이든, 과학기술정책실장 장관급 격상..유전학자 랜더 MIT 교수 내정\" class=\"thumb_g\" src=\"https://img1.daumcdn.net/thumb/S254x156ht.u/?fname=https%3A%2F%2Ft1.daumcdn.net%2Fnews%2F202101%2F17%2Fmoneytoday%2F20210117083237274nvnl.jpg&amp;scode=media\"/>\n",
       " </a>\n",
       " <div class=\"cont_thumb\">\n",
       " <strong class=\"tit_thumb\">\n",
       " <a class=\"link_txt\" data-tiara-custom=\"contentUniqueKey=hamny-20210117083236524\" data-tiara-id=\"20210117083236524\" data-tiara-layer=\"article_main\" data-tiara-ordnum=\"1\" data-tiara-type=\"harmony\" href=\"https://news.v.daum.net/v/20210117083236524\">바이든, 과학기술정책실장 장관급 격상..유전학자 랜더 MIT 교수 내정</a>\n",
       " </strong>\n",
       " <span class=\"info_thumb\">머니투데이</span>\n",
       " </div>\n",
       " </div>,\n",
       " <div class=\"item_issue\">\n",
       " <a class=\"link_thumb\" data-tiara-custom=\"contentUniqueKey=hamny-20210117083110511\" data-tiara-id=\"20210117083110511\" data-tiara-layer=\"article_thumb\" data-tiara-ordnum=\"1\" data-tiara-type=\"harmony\" href=\"https://news.v.daum.net/v/20210117083110511\">\n",
       " <img alt=\"'코로나發 고용한파'에 비자발적 실직자 200만명 돌파..역대 처음\" class=\"thumb_g\" src=\"https://img1.daumcdn.net/thumb/S254x156ht.u/?fname=https%3A%2F%2Ft1.daumcdn.net%2Fnews%2F202101%2F17%2Fned%2F20210117083112724ubio.jpg&amp;scode=media\"/>\n",
       " </a>\n",
       " <div class=\"cont_thumb\">\n",
       " <strong class=\"tit_thumb\">\n",
       " <a class=\"link_txt\" data-tiara-custom=\"contentUniqueKey=hamny-20210117083110511\" data-tiara-id=\"20210117083110511\" data-tiara-layer=\"article_main\" data-tiara-ordnum=\"1\" data-tiara-type=\"harmony\" href=\"https://news.v.daum.net/v/20210117083110511\">'코로나發 고용한파'에 비자발적 실직자 200만명 돌파..역대 처음</a>\n",
       " </strong>\n",
       " <span class=\"info_thumb\">헤럴드경제</span>\n",
       " </div>\n",
       " <p class=\"detail_thumb\"><!-- 발문만 노출될 경우 추가 -->\n",
       "                                 [헤럴드경제=배문숙 기자] 코로나19로 지난해 직장 폐업이나 정리해고, 사업 부진 등 비자발적인 이유로 일자리를 잃은 사람이 역대 처음으로 200만명을 넘어선 것으로 나타났다. 특히 임시·일용직과 영세 사업장 등 취약층에서 비자발적 실직자가 많았던 것으로 집계됐다. 비자발적 실직자란 '직장의 휴업·폐업', '명예퇴직·조기퇴직·정리해고', '임시적·계절적 일\n",
       " \t\t\t\t\t\t    </p><!-- 2020-03-16 수정 -->\n",
       " </div>,\n",
       " <div class=\"item_issue\">\n",
       " <a class=\"link_thumb\" data-tiara-custom=\"contentUniqueKey=hamny-20210117054103357\" data-tiara-id=\"20210117054103357\" data-tiara-layer=\"article_thumb\" data-tiara-ordnum=\"1\" data-tiara-type=\"harmony\" href=\"https://news.v.daum.net/v/20210117054103357\">\n",
       " <img alt=\"나경원, 진중권 왜 만났나..여야 후보들, 주말이 짧다\" class=\"thumb_g\" src=\"https://img1.daumcdn.net/thumb/S254x156ht.u/?fname=https%3A%2F%2Ft1.daumcdn.net%2Fnews%2F202101%2F17%2Fmoneytoday%2F20210117054106605ryvg.jpg&amp;scode=media\"/>\n",
       " </a>\n",
       " <div class=\"cont_thumb\">\n",
       " <strong class=\"tit_thumb\">\n",
       " <a class=\"link_txt\" data-tiara-custom=\"contentUniqueKey=hamny-20210117054103357\" data-tiara-id=\"20210117054103357\" data-tiara-layer=\"article_main\" data-tiara-ordnum=\"1\" data-tiara-type=\"harmony\" href=\"https://news.v.daum.net/v/20210117054103357\">나경원, 진중권 왜 만났나..여야 후보들, 주말이 짧다</a>\n",
       " </strong>\n",
       " <span class=\"info_thumb\">머니투데이</span>\n",
       " </div>\n",
       " </div>]"
      ]
     },
     "execution_count": 6,
     "metadata": {},
     "output_type": "execute_result"
    }
   ],
   "source": [
    "soup.find_all('div', {\"class\":\"item_issue\"})"
   ]
  },
  {
   "cell_type": "code",
   "execution_count": 8,
   "metadata": {},
   "outputs": [
    {
     "name": "stdout",
     "output_type": "stream",
     "text": [
      "\n",
      "\n",
      "\n",
      "\n",
      "\n",
      "\n",
      "내일부터 카페 매장 내 취식 가능..헬스장·노래방 운영재개\n",
      "\n",
      "한국경제\n",
      "\n",
      "\n",
      "\n",
      "\n",
      "\n",
      "\n",
      "\n",
      "\n",
      "바이든, 과학기술정책실장 장관급 격상..유전학자 랜더 MIT 교수 내정\n",
      "\n",
      "머니투데이\n",
      "\n",
      "\n",
      "\n",
      "\n",
      "\n",
      "\n",
      "\n",
      "\n",
      "'코로나發 고용한파'에 비자발적 실직자 200만명 돌파..역대 처음\n",
      "\n",
      "헤럴드경제\n",
      "\n",
      "\n",
      "                                [헤럴드경제=배문숙 기자] 코로나19로 지난해 직장 폐업이나 정리해고, 사업 부진 등 비자발적인 이유로 일자리를 잃은 사람이 역대 처음으로 200만명을 넘어선 것으로 나타났다. 특히 임시·일용직과 영세 사업장 등 취약층에서 비자발적 실직자가 많았던 것으로 집계됐다. 비자발적 실직자란 '직장의 휴업·폐업', '명예퇴직·조기퇴직·정리해고', '임시적·계절적 일\n",
      "\t\t\t\t\t\t    \n",
      "\n",
      "\n",
      "\n",
      "\n",
      "\n",
      "\n",
      "\n",
      "나경원, 진중권 왜 만났나..여야 후보들, 주말이 짧다\n",
      "\n",
      "머니투데이\n",
      "\n",
      "\n"
     ]
    }
   ],
   "source": [
    "for i in soup.find_all('div',{\"class\":\"item_issue\"}) :\n",
    "    print(i.text)"
   ]
  },
  {
   "cell_type": "code",
   "execution_count": 10,
   "metadata": {},
   "outputs": [
    {
     "data": {
      "text/plain": [
       "[<a href=\"#kakaoBody\">본문 바로가기</a>,\n",
       " <a href=\"#kakaoGnb\">메뉴 바로가기</a>,\n",
       " <a data-tiara-layer=\"GNB default service_news\" href=\"https://news.daum.net/\" id=\"kakaoServiceLogo\"><span class=\"ir_wa\">뉴스</span></a>,\n",
       " <a class=\"link_services link_services1\" data-tiara-layer=\"service_enter\" href=\"https://entertain.daum.net\"><span class=\"ir_wa\">연예</span></a>,\n",
       " <a class=\"link_services link_services2\" data-tiara-layer=\"service_sports\" href=\"https://sports.daum.net\"><span class=\"ir_wa\">스포츠</span></a>]"
      ]
     },
     "execution_count": 10,
     "metadata": {},
     "output_type": "execute_result"
    }
   ],
   "source": [
    "soup.find_all('a')[:5]"
   ]
  },
  {
   "cell_type": "code",
   "execution_count": 12,
   "metadata": {},
   "outputs": [
    {
     "name": "stdout",
     "output_type": "stream",
     "text": [
      "#kakaoBody\n",
      "#kakaoGnb\n",
      "https://news.daum.net/\n",
      "https://entertain.daum.net\n",
      "https://sports.daum.net\n"
     ]
    }
   ],
   "source": [
    "for i in soup.find_all('a')[:5] : \n",
    "    print(i.get(\"href\"))"
   ]
  },
  {
   "cell_type": "code",
   "execution_count": 13,
   "metadata": {},
   "outputs": [
    {
     "ename": "AttributeError",
     "evalue": "ResultSet object has no attribute 'get'. You're probably treating a list of elements like a single element. Did you call find_all() when you meant to call find()?",
     "output_type": "error",
     "traceback": [
      "\u001b[1;31m---------------------------------------------------------------------------\u001b[0m",
      "\u001b[1;31mAttributeError\u001b[0m                            Traceback (most recent call last)",
      "\u001b[1;32m<ipython-input-13-88be9af41c9e>\u001b[0m in \u001b[0;36m<module>\u001b[1;34m\u001b[0m\n\u001b[0;32m      1\u001b[0m \u001b[1;32mfor\u001b[0m \u001b[0mi\u001b[0m \u001b[1;32min\u001b[0m \u001b[0msoup\u001b[0m\u001b[1;33m.\u001b[0m\u001b[0mfind_all\u001b[0m\u001b[1;33m(\u001b[0m\u001b[1;34m'div'\u001b[0m\u001b[1;33m,\u001b[0m\u001b[1;33m{\u001b[0m\u001b[1;34m\"class\"\u001b[0m\u001b[1;33m:\u001b[0m\u001b[1;34m\"item_issue\"\u001b[0m\u001b[1;33m}\u001b[0m\u001b[1;33m)\u001b[0m \u001b[1;33m:\u001b[0m\u001b[1;33m\u001b[0m\u001b[1;33m\u001b[0m\u001b[0m\n\u001b[1;32m----> 2\u001b[1;33m     \u001b[0mi\u001b[0m\u001b[1;33m.\u001b[0m\u001b[0mfind_all\u001b[0m\u001b[1;33m(\u001b[0m\u001b[1;34m'a'\u001b[0m\u001b[1;33m)\u001b[0m\u001b[1;33m.\u001b[0m\u001b[0mget\u001b[0m\u001b[1;33m(\u001b[0m\u001b[1;34m'href'\u001b[0m\u001b[1;33m)\u001b[0m\u001b[1;33m\u001b[0m\u001b[1;33m\u001b[0m\u001b[0m\n\u001b[0m",
      "\u001b[1;32m~\\Anaconda3\\lib\\site-packages\\bs4\\element.py\u001b[0m in \u001b[0;36m__getattr__\u001b[1;34m(self, key)\u001b[0m\n\u001b[0;32m   2158\u001b[0m     \u001b[1;32mdef\u001b[0m \u001b[0m__getattr__\u001b[0m\u001b[1;33m(\u001b[0m\u001b[0mself\u001b[0m\u001b[1;33m,\u001b[0m \u001b[0mkey\u001b[0m\u001b[1;33m)\u001b[0m\u001b[1;33m:\u001b[0m\u001b[1;33m\u001b[0m\u001b[1;33m\u001b[0m\u001b[0m\n\u001b[0;32m   2159\u001b[0m         \u001b[1;34m\"\"\"Raise a helpful exception to explain a common code fix.\"\"\"\u001b[0m\u001b[1;33m\u001b[0m\u001b[1;33m\u001b[0m\u001b[0m\n\u001b[1;32m-> 2160\u001b[1;33m         raise AttributeError(\n\u001b[0m\u001b[0;32m   2161\u001b[0m             \u001b[1;34m\"ResultSet object has no attribute '%s'. You're probably treating a list of elements like a single element. Did you call find_all() when you meant to call find()?\"\u001b[0m \u001b[1;33m%\u001b[0m \u001b[0mkey\u001b[0m\u001b[1;33m\u001b[0m\u001b[1;33m\u001b[0m\u001b[0m\n\u001b[0;32m   2162\u001b[0m         )\n",
      "\u001b[1;31mAttributeError\u001b[0m: ResultSet object has no attribute 'get'. You're probably treating a list of elements like a single element. Did you call find_all() when you meant to call find()?"
     ]
    }
   ],
   "source": [
    "for i in soup.find_all('div', {\"class\":\"item_issue\"}) : \n",
    "    i.find_all('a').get('href')"
   ]
  },
  {
   "cell_type": "code",
   "execution_count": null,
   "metadata": {},
   "outputs": [],
   "source": []
  }
 ],
 "metadata": {
  "kernelspec": {
   "display_name": "Python 3",
   "language": "python",
   "name": "python3"
  },
  "language_info": {
   "codemirror_mode": {
    "name": "ipython",
    "version": 3
   },
   "file_extension": ".py",
   "mimetype": "text/x-python",
   "name": "python",
   "nbconvert_exporter": "python",
   "pygments_lexer": "ipython3",
   "version": "3.8.3"
  }
 },
 "nbformat": 4,
 "nbformat_minor": 4
}
